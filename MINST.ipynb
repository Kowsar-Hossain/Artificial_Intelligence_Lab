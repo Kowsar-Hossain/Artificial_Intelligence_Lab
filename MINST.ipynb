import tensorflow as tf
from tensorflow.keras.datasets import mnist
from tensorflow.keras.models import Sequential
from tensorflow.keras.layers import Dense, Flatten
from tensorflow.keras.utils import to_categorical
from tensorflow.keras.layers import Input, Dense, Flatten
from tensorflow.keras.models import Model
import matplotlib.pyplot as plt
number_of_classes = 10
    
#--- Load MNIST data
(x_train, y_train), (x_test, y_test) = mnist.load_data()
# Normalize pixel values (0-255 → 0-1)
x_train = x_train.astype('float32') / 255.0
x_test  = x_test.astype('float32') / 255.0
# One-hot encode labels
y_train = to_categorical(y_train, number_of_classes)
y_test  = to_categorical(y_test, number_of_classes)
#--- Cross-check data
print("Training data shape:", x_train.shape)
print("Test data shape:", x_test.shape)
Training data shape: (60000, 28, 28)
Test data shape: (10000, 28, 28)
#--- Build the model
inputs = Input((28,28))  # input layer
x = Flatten()(inputs)    # flatten 28x28 → 784
x = Dense(512, activation='relu')(x)
x = Dense(256, activation='relu')(x)
x = Dense(128, activation='relu')(x)
outputs = Dense(number_of_classes, activation='softmax')(x)

model = Model(inputs=inputs, outputs=outputs)
# Compile the model
model.compile(
    optimizer='adam',
    loss='categorical_crossentropy',
    metrics=['accuracy']
)

model.summary()
Model: "functional"
┏━━━━━━━━━━━━━━━━━━━━━━━━━━━━━━━━━┳━━━━━━━━━━━━━━━━━━━━━━━━┳━━━━━━━━━━━━━━━┓
┃ Layer (type)                    ┃ Output Shape           ┃       Param # ┃
┡━━━━━━━━━━━━━━━━━━━━━━━━━━━━━━━━━╇━━━━━━━━━━━━━━━━━━━━━━━━╇━━━━━━━━━━━━━━━┩
│ input_layer (InputLayer)        │ (None, 28, 28)         │             0 │
├─────────────────────────────────┼────────────────────────┼───────────────┤
│ flatten (Flatten)               │ (None, 784)            │             0 │
├─────────────────────────────────┼────────────────────────┼───────────────┤
│ dense (Dense)                   │ (None, 512)            │       401,920 │
├─────────────────────────────────┼────────────────────────┼───────────────┤
│ dense_1 (Dense)                 │ (None, 256)            │       131,328 │
├─────────────────────────────────┼────────────────────────┼───────────────┤
│ dense_2 (Dense)                 │ (None, 128)            │        32,896 │
├─────────────────────────────────┼────────────────────────┼───────────────┤
│ dense_3 (Dense)                 │ (None, 10)             │         1,290 │
└─────────────────────────────────┴────────────────────────┴───────────────┘
 Total params: 567,434 (2.16 MB)
 Trainable params: 567,434 (2.16 MB)
 Non-trainable params: 0 (0.00 B)
#--- Train with 10% validation split
history = model.fit(
    x_train, y_train,
    epochs=200,
    batch_size=32,
    validation_split=0.1,
    verbose=1
)
Epoch 1/200
1688/1688 ━━━━━━━━━━━━━━━━━━━━ 3s 2ms/step - accuracy: 0.9980 - loss: 0.0059 - val_accuracy: 0.9828 - val_loss: 0.1255
Epoch 2/200
1688/1688 ━━━━━━━━━━━━━━━━━━━━ 3s 2ms/step - accuracy: 0.9969 - loss: 0.0115 - val_accuracy: 0.9823 - val_loss: 0.1057
Epoch 3/200
1688/1688 ━━━━━━━━━━━━━━━━━━━━ 3s 2ms/step - accuracy: 0.9979 - loss: 0.0071 - val_accuracy: 0.9818 - val_loss: 0.1233
Epoch 4/200
1688/1688 ━━━━━━━━━━━━━━━━━━━━ 4s 2ms/step - accuracy: 0.9973 - loss: 0.0097 - val_accuracy: 0.9855 - val_loss: 0.1248
Epoch 5/200
1688/1688 ━━━━━━━━━━━━━━━━━━━━ 3s 2ms/step - accuracy: 0.9974 - loss: 0.0108 - val_accuracy: 0.9818 - val_loss: 0.1207
Epoch 6/200
1688/1688 ━━━━━━━━━━━━━━━━━━━━ 3s 2ms/step - accuracy: 0.9977 - loss: 0.0085 - val_accuracy: 0.9817 - val_loss: 0.1224
Epoch 7/200
1688/1688 ━━━━━━━━━━━━━━━━━━━━ 4s 2ms/step - accuracy: 0.9970 - loss: 0.0099 - val_accuracy: 0.9838 - val_loss: 0.1015
Epoch 8/200
1688/1688 ━━━━━━━━━━━━━━━━━━━━ 4s 2ms/step - accuracy: 0.9985 - loss: 0.0058 - val_accuracy: 0.9808 - val_loss: 0.1458
Epoch 9/200
1688/1688 ━━━━━━━━━━━━━━━━━━━━ 4s 2ms/step - accuracy: 0.9979 - loss: 0.0082 - val_accuracy: 0.9823 - val_loss: 0.1198
Epoch 10/200
1688/1688 ━━━━━━━━━━━━━━━━━━━━ 4s 2ms/step - accuracy: 0.9989 - loss: 0.0043 - val_accuracy: 0.9810 - val_loss: 0.1459
Epoch 11/200
1688/1688 ━━━━━━━━━━━━━━━━━━━━ 4s 2ms/step - accuracy: 0.9980 - loss: 0.0079 - val_accuracy: 0.9837 - val_loss: 0.1276
Epoch 12/200
1688/1688 ━━━━━━━━━━━━━━━━━━━━ 3s 2ms/step - accuracy: 0.9976 - loss: 0.0096 - val_accuracy: 0.9825 - val_loss: 0.1182
Epoch 13/200
1688/1688 ━━━━━━━━━━━━━━━━━━━━ 4s 2ms/step - accuracy: 0.9981 - loss: 0.0069 - val_accuracy: 0.9827 - val_loss: 0.1175
Epoch 14/200
1688/1688 ━━━━━━━━━━━━━━━━━━━━ 4s 2ms/step - accuracy: 0.9980 - loss: 0.0087 - val_accuracy: 0.9830 - val_loss: 0.1515
Epoch 15/200
1688/1688 ━━━━━━━━━━━━━━━━━━━━ 3s 2ms/step - accuracy: 0.9981 - loss: 0.0074 - val_accuracy: 0.9817 - val_loss: 0.1585
Epoch 16/200
1688/1688 ━━━━━━━━━━━━━━━━━━━━ 4s 2ms/step - accuracy: 0.9980 - loss: 0.0085 - val_accuracy: 0.9832 - val_loss: 0.1621
Epoch 17/200
1688/1688 ━━━━━━━━━━━━━━━━━━━━ 3s 2ms/step - accuracy: 0.9982 - loss: 0.0085 - val_accuracy: 0.9838 - val_loss: 0.1377
Epoch 18/200
1688/1688 ━━━━━━━━━━━━━━━━━━━━ 3s 2ms/step - accuracy: 0.9986 - loss: 0.0073 - val_accuracy: 0.9827 - val_loss: 0.1631
Epoch 19/200
1688/1688 ━━━━━━━━━━━━━━━━━━━━ 4s 2ms/step - accuracy: 0.9985 - loss: 0.0054 - val_accuracy: 0.9817 - val_loss: 0.1586
Epoch 20/200
1688/1688 ━━━━━━━━━━━━━━━━━━━━ 4s 2ms/step - accuracy: 0.9980 - loss: 0.0099 - val_accuracy: 0.9842 - val_loss: 0.1299
Epoch 21/200
1688/1688 ━━━━━━━━━━━━━━━━━━━━ 4s 2ms/step - accuracy: 0.9983 - loss: 0.0080 - val_accuracy: 0.9810 - val_loss: 0.1892
Epoch 22/200
1688/1688 ━━━━━━━━━━━━━━━━━━━━ 4s 2ms/step - accuracy: 0.9982 - loss: 0.0082 - val_accuracy: 0.9832 - val_loss: 0.1260
Epoch 23/200
1688/1688 ━━━━━━━━━━━━━━━━━━━━ 4s 2ms/step - accuracy: 0.9984 - loss: 0.0099 - val_accuracy: 0.9858 - val_loss: 0.1324
Epoch 24/200
1688/1688 ━━━━━━━━━━━━━━━━━━━━ 4s 2ms/step - accuracy: 0.9989 - loss: 0.0068 - val_accuracy: 0.9808 - val_loss: 0.1947
Epoch 25/200
1688/1688 ━━━━━━━━━━━━━━━━━━━━ 3s 2ms/step - accuracy: 0.9983 - loss: 0.0067 - val_accuracy: 0.9817 - val_loss: 0.1538
Epoch 26/200
1688/1688 ━━━━━━━━━━━━━━━━━━━━ 3s 2ms/step - accuracy: 0.9977 - loss: 0.0147 - val_accuracy: 0.9842 - val_loss: 0.1633
Epoch 27/200
1688/1688 ━━━━━━━━━━━━━━━━━━━━ 4s 2ms/step - accuracy: 0.9983 - loss: 0.0074 - val_accuracy: 0.9858 - val_loss: 0.1432
Epoch 28/200
1688/1688 ━━━━━━━━━━━━━━━━━━━━ 3s 2ms/step - accuracy: 0.9994 - loss: 0.0028 - val_accuracy: 0.9845 - val_loss: 0.1377
Epoch 29/200
1688/1688 ━━━━━━━━━━━━━━━━━━━━ 4s 2ms/step - accuracy: 0.9986 - loss: 0.0073 - val_accuracy: 0.9830 - val_loss: 0.1645
Epoch 30/200
1688/1688 ━━━━━━━━━━━━━━━━━━━━ 3s 2ms/step - accuracy: 0.9987 - loss: 0.0050 - val_accuracy: 0.9805 - val_loss: 0.2088
Epoch 31/200
1688/1688 ━━━━━━━━━━━━━━━━━━━━ 3s 2ms/step - accuracy: 0.9986 - loss: 0.0066 - val_accuracy: 0.9823 - val_loss: 0.1970
Epoch 32/200
1688/1688 ━━━━━━━━━━━━━━━━━━━━ 3s 2ms/step - accuracy: 0.9982 - loss: 0.0126 - val_accuracy: 0.9838 - val_loss: 0.1585
Epoch 33/200
1688/1688 ━━━━━━━━━━━━━━━━━━━━ 4s 2ms/step - accuracy: 0.9992 - loss: 0.0046 - val_accuracy: 0.9837 - val_loss: 0.1698
Epoch 34/200
1688/1688 ━━━━━━━━━━━━━━━━━━━━ 3s 2ms/step - accuracy: 0.9989 - loss: 0.0047 - val_accuracy: 0.9847 - val_loss: 0.1849
Epoch 35/200
1688/1688 ━━━━━━━━━━━━━━━━━━━━ 4s 2ms/step - accuracy: 0.9984 - loss: 0.0106 - val_accuracy: 0.9855 - val_loss: 0.1457
Epoch 36/200
1688/1688 ━━━━━━━━━━━━━━━━━━━━ 4s 2ms/step - accuracy: 0.9989 - loss: 0.0045 - val_accuracy: 0.9845 - val_loss: 0.2020
Epoch 37/200
1688/1688 ━━━━━━━━━━━━━━━━━━━━ 4s 2ms/step - accuracy: 0.9989 - loss: 0.0056 - val_accuracy: 0.9832 - val_loss: 0.1902
Epoch 38/200
1688/1688 ━━━━━━━━━━━━━━━━━━━━ 4s 2ms/step - accuracy: 0.9980 - loss: 0.0091 - val_accuracy: 0.9820 - val_loss: 0.1949
Epoch 39/200
1688/1688 ━━━━━━━━━━━━━━━━━━━━ 4s 2ms/step - accuracy: 0.9987 - loss: 0.0070 - val_accuracy: 0.9813 - val_loss: 0.2486
Epoch 40/200
1688/1688 ━━━━━━━━━━━━━━━━━━━━ 3s 2ms/step - accuracy: 0.9985 - loss: 0.0095 - val_accuracy: 0.9850 - val_loss: 0.1866
Epoch 41/200
1688/1688 ━━━━━━━━━━━━━━━━━━━━ 3s 2ms/step - accuracy: 0.9984 - loss: 0.0107 - val_accuracy: 0.9817 - val_loss: 0.2373
Epoch 42/200
1688/1688 ━━━━━━━━━━━━━━━━━━━━ 4s 2ms/step - accuracy: 0.9987 - loss: 0.0064 - val_accuracy: 0.9843 - val_loss: 0.1818
Epoch 43/200
1688/1688 ━━━━━━━━━━━━━━━━━━━━ 4s 2ms/step - accuracy: 0.9985 - loss: 0.0073 - val_accuracy: 0.9835 - val_loss: 0.2458
Epoch 44/200
1688/1688 ━━━━━━━━━━━━━━━━━━━━ 3s 2ms/step - accuracy: 0.9984 - loss: 0.0111 - val_accuracy: 0.9847 - val_loss: 0.1772
Epoch 45/200
1688/1688 ━━━━━━━━━━━━━━━━━━━━ 4s 2ms/step - accuracy: 0.9986 - loss: 0.0070 - val_accuracy: 0.9852 - val_loss: 0.1790
Epoch 46/200
1688/1688 ━━━━━━━━━━━━━━━━━━━━ 4s 2ms/step - accuracy: 0.9992 - loss: 0.0043 - val_accuracy: 0.9850 - val_loss: 0.2434
Epoch 47/200
1688/1688 ━━━━━━━━━━━━━━━━━━━━ 4s 2ms/step - accuracy: 0.9992 - loss: 0.0050 - val_accuracy: 0.9850 - val_loss: 0.1762
Epoch 48/200
1688/1688 ━━━━━━━━━━━━━━━━━━━━ 4s 2ms/step - accuracy: 0.9992 - loss: 0.0036 - val_accuracy: 0.9825 - val_loss: 0.2386
Epoch 49/200
1688/1688 ━━━━━━━━━━━━━━━━━━━━ 4s 2ms/step - accuracy: 0.9987 - loss: 0.0071 - val_accuracy: 0.9832 - val_loss: 0.2157
Epoch 50/200
1688/1688 ━━━━━━━━━━━━━━━━━━━━ 4s 2ms/step - accuracy: 0.9983 - loss: 0.0097 - val_accuracy: 0.9842 - val_loss: 0.1935
Epoch 51/200
1688/1688 ━━━━━━━━━━━━━━━━━━━━ 4s 2ms/step - accuracy: 0.9992 - loss: 0.0038 - val_accuracy: 0.9848 - val_loss: 0.1881
Epoch 52/200
1688/1688 ━━━━━━━━━━━━━━━━━━━━ 4s 2ms/step - accuracy: 0.9990 - loss: 0.0061 - val_accuracy: 0.9843 - val_loss: 0.2123
Epoch 53/200
1688/1688 ━━━━━━━━━━━━━━━━━━━━ 4s 2ms/step - accuracy: 0.9991 - loss: 0.0041 - val_accuracy: 0.9835 - val_loss: 0.2295
Epoch 54/200
1688/1688 ━━━━━━━━━━━━━━━━━━━━ 4s 2ms/step - accuracy: 0.9993 - loss: 0.0056 - val_accuracy: 0.9870 - val_loss: 0.1880
Epoch 55/200
1688/1688 ━━━━━━━━━━━━━━━━━━━━ 4s 2ms/step - accuracy: 0.9993 - loss: 0.0031 - val_accuracy: 0.9822 - val_loss: 0.2617
Epoch 56/200
1688/1688 ━━━━━━━━━━━━━━━━━━━━ 4s 2ms/step - accuracy: 0.9983 - loss: 0.0127 - val_accuracy: 0.9818 - val_loss: 0.2806
Epoch 57/200
1688/1688 ━━━━━━━━━━━━━━━━━━━━ 4s 2ms/step - accuracy: 0.9991 - loss: 0.0044 - val_accuracy: 0.9845 - val_loss: 0.2460
Epoch 58/200
1688/1688 ━━━━━━━━━━━━━━━━━━━━ 4s 2ms/step - accuracy: 0.9987 - loss: 0.0081 - val_accuracy: 0.9827 - val_loss: 0.2438
Epoch 59/200
1688/1688 ━━━━━━━━━━━━━━━━━━━━ 4s 2ms/step - accuracy: 0.9987 - loss: 0.0089 - val_accuracy: 0.9850 - val_loss: 0.2046
Epoch 60/200
1688/1688 ━━━━━━━━━━━━━━━━━━━━ 4s 2ms/step - accuracy: 0.9994 - loss: 0.0024 - val_accuracy: 0.9845 - val_loss: 0.2118
Epoch 61/200
1688/1688 ━━━━━━━━━━━━━━━━━━━━ 4s 2ms/step - accuracy: 0.9992 - loss: 0.0035 - val_accuracy: 0.9843 - val_loss: 0.2281
Epoch 62/200
1688/1688 ━━━━━━━━━━━━━━━━━━━━ 4s 2ms/step - accuracy: 0.9985 - loss: 0.0116 - val_accuracy: 0.9853 - val_loss: 0.2114
Epoch 63/200
1688/1688 ━━━━━━━━━━━━━━━━━━━━ 4s 2ms/step - accuracy: 0.9996 - loss: 0.0031 - val_accuracy: 0.9838 - val_loss: 0.1963
Epoch 64/200
1688/1688 ━━━━━━━━━━━━━━━━━━━━ 4s 2ms/step - accuracy: 0.9985 - loss: 0.0086 - val_accuracy: 0.9833 - val_loss: 0.2136
Epoch 65/200
1688/1688 ━━━━━━━━━━━━━━━━━━━━ 4s 2ms/step - accuracy: 0.9993 - loss: 0.0067 - val_accuracy: 0.9848 - val_loss: 0.2222
Epoch 66/200
1688/1688 ━━━━━━━━━━━━━━━━━━━━ 4s 3ms/step - accuracy: 0.9989 - loss: 0.0096 - val_accuracy: 0.9795 - val_loss: 0.3638
Epoch 67/200
1688/1688 ━━━━━━━━━━━━━━━━━━━━ 4s 3ms/step - accuracy: 0.9985 - loss: 0.0140 - val_accuracy: 0.9847 - val_loss: 0.2887
Epoch 68/200
1688/1688 ━━━━━━━━━━━━━━━━━━━━ 5s 3ms/step - accuracy: 0.9995 - loss: 0.0030 - val_accuracy: 0.9860 - val_loss: 0.2703
Epoch 69/200
1688/1688 ━━━━━━━━━━━━━━━━━━━━ 4s 3ms/step - accuracy: 0.9989 - loss: 0.0068 - val_accuracy: 0.9833 - val_loss: 0.2155
Epoch 70/200
1688/1688 ━━━━━━━━━━━━━━━━━━━━ 4s 3ms/step - accuracy: 0.9993 - loss: 0.0036 - val_accuracy: 0.9842 - val_loss: 0.2329
Epoch 71/200
1688/1688 ━━━━━━━━━━━━━━━━━━━━ 4s 3ms/step - accuracy: 0.9993 - loss: 0.0051 - val_accuracy: 0.9817 - val_loss: 0.3087
Epoch 72/200
1688/1688 ━━━━━━━━━━━━━━━━━━━━ 5s 3ms/step - accuracy: 0.9984 - loss: 0.0157 - val_accuracy: 0.9857 - val_loss: 0.2238
Epoch 73/200
1688/1688 ━━━━━━━━━━━━━━━━━━━━ 4s 3ms/step - accuracy: 0.9991 - loss: 0.0039 - val_accuracy: 0.9860 - val_loss: 0.2124
Epoch 74/200
1688/1688 ━━━━━━━━━━━━━━━━━━━━ 5s 3ms/step - accuracy: 0.9993 - loss: 0.0045 - val_accuracy: 0.9840 - val_loss: 0.2007
Epoch 75/200
1688/1688 ━━━━━━━━━━━━━━━━━━━━ 4s 3ms/step - accuracy: 0.9993 - loss: 0.0032 - val_accuracy: 0.9843 - val_loss: 0.2482
Epoch 76/200
1688/1688 ━━━━━━━━━━━━━━━━━━━━ 5s 3ms/step - accuracy: 0.9985 - loss: 0.0132 - val_accuracy: 0.9848 - val_loss: 0.2687
Epoch 77/200
1688/1688 ━━━━━━━━━━━━━━━━━━━━ 5s 3ms/step - accuracy: 0.9993 - loss: 0.0055 - val_accuracy: 0.9847 - val_loss: 0.2187
Epoch 78/200
1688/1688 ━━━━━━━━━━━━━━━━━━━━ 5s 3ms/step - accuracy: 0.9991 - loss: 0.0070 - val_accuracy: 0.9830 - val_loss: 0.3270
Epoch 79/200
1688/1688 ━━━━━━━━━━━━━━━━━━━━ 5s 3ms/step - accuracy: 0.9992 - loss: 0.0066 - val_accuracy: 0.9853 - val_loss: 0.2566
Epoch 80/200
1688/1688 ━━━━━━━━━━━━━━━━━━━━ 5s 3ms/step - accuracy: 0.9994 - loss: 0.0026 - val_accuracy: 0.9827 - val_loss: 0.2738
Epoch 81/200
1688/1688 ━━━━━━━━━━━━━━━━━━━━ 5s 3ms/step - accuracy: 0.9990 - loss: 0.0067 - val_accuracy: 0.9825 - val_loss: 0.3208
Epoch 82/200
1688/1688 ━━━━━━━━━━━━━━━━━━━━ 5s 3ms/step - accuracy: 0.9988 - loss: 0.0068 - val_accuracy: 0.9843 - val_loss: 0.2657
Epoch 83/200
1688/1688 ━━━━━━━━━━━━━━━━━━━━ 5s 3ms/step - accuracy: 0.9992 - loss: 0.0078 - val_accuracy: 0.9840 - val_loss: 0.2797
Epoch 84/200
1688/1688 ━━━━━━━━━━━━━━━━━━━━ 4s 3ms/step - accuracy: 0.9993 - loss: 0.0047 - val_accuracy: 0.9858 - val_loss: 0.2351
Epoch 85/200
1688/1688 ━━━━━━━━━━━━━━━━━━━━ 5s 3ms/step - accuracy: 0.9994 - loss: 0.0081 - val_accuracy: 0.9813 - val_loss: 0.2345
Epoch 86/200
1688/1688 ━━━━━━━━━━━━━━━━━━━━ 5s 3ms/step - accuracy: 0.9995 - loss: 0.0031 - val_accuracy: 0.9828 - val_loss: 0.2507
Epoch 87/200
1688/1688 ━━━━━━━━━━━━━━━━━━━━ 5s 3ms/step - accuracy: 0.9991 - loss: 0.0091 - val_accuracy: 0.9835 - val_loss: 0.2393
Epoch 88/200
1688/1688 ━━━━━━━━━━━━━━━━━━━━ 4s 3ms/step - accuracy: 0.9992 - loss: 0.0028 - val_accuracy: 0.9840 - val_loss: 0.2948
Epoch 89/200
1688/1688 ━━━━━━━━━━━━━━━━━━━━ 4s 3ms/step - accuracy: 0.9989 - loss: 0.0078 - val_accuracy: 0.9860 - val_loss: 0.2465
Epoch 90/200
1688/1688 ━━━━━━━━━━━━━━━━━━━━ 4s 3ms/step - accuracy: 0.9992 - loss: 0.0089 - val_accuracy: 0.9822 - val_loss: 0.2608
Epoch 91/200
1688/1688 ━━━━━━━━━━━━━━━━━━━━ 4s 3ms/step - accuracy: 0.9987 - loss: 0.0118 - val_accuracy: 0.9852 - val_loss: 0.2532
Epoch 92/200
1688/1688 ━━━━━━━━━━━━━━━━━━━━ 4s 3ms/step - accuracy: 0.9994 - loss: 0.0058 - val_accuracy: 0.9868 - val_loss: 0.2809
Epoch 93/200
1688/1688 ━━━━━━━━━━━━━━━━━━━━ 5s 3ms/step - accuracy: 0.9987 - loss: 0.0107 - val_accuracy: 0.9830 - val_loss: 0.3042
Epoch 94/200
1688/1688 ━━━━━━━━━━━━━━━━━━━━ 5s 3ms/step - accuracy: 0.9990 - loss: 0.0068 - val_accuracy: 0.9852 - val_loss: 0.3245
Epoch 95/200
1688/1688 ━━━━━━━━━━━━━━━━━━━━ 4s 3ms/step - accuracy: 0.9995 - loss: 0.0043 - val_accuracy: 0.9847 - val_loss: 0.2918
Epoch 96/200
1688/1688 ━━━━━━━━━━━━━━━━━━━━ 5s 3ms/step - accuracy: 0.9991 - loss: 0.0070 - val_accuracy: 0.9842 - val_loss: 0.2636
Epoch 97/200
1688/1688 ━━━━━━━━━━━━━━━━━━━━ 5s 3ms/step - accuracy: 0.9996 - loss: 0.0044 - val_accuracy: 0.9862 - val_loss: 0.2841
Epoch 98/200
1688/1688 ━━━━━━━━━━━━━━━━━━━━ 4s 3ms/step - accuracy: 0.9988 - loss: 0.0088 - val_accuracy: 0.9852 - val_loss: 0.2732
Epoch 99/200
1688/1688 ━━━━━━━━━━━━━━━━━━━━ 5s 3ms/step - accuracy: 0.9998 - loss: 0.0015 - val_accuracy: 0.9845 - val_loss: 0.2819
Epoch 100/200
1688/1688 ━━━━━━━━━━━━━━━━━━━━ 5s 3ms/step - accuracy: 0.9994 - loss: 0.0071 - val_accuracy: 0.9852 - val_loss: 0.2575
Epoch 101/200
1688/1688 ━━━━━━━━━━━━━━━━━━━━ 5s 3ms/step - accuracy: 0.9990 - loss: 0.0049 - val_accuracy: 0.9843 - val_loss: 0.3061
Epoch 102/200
1688/1688 ━━━━━━━━━━━━━━━━━━━━ 5s 3ms/step - accuracy: 0.9989 - loss: 0.0068 - val_accuracy: 0.9842 - val_loss: 0.3236
Epoch 103/200
1688/1688 ━━━━━━━━━━━━━━━━━━━━ 5s 3ms/step - accuracy: 0.9991 - loss: 0.0085 - val_accuracy: 0.9835 - val_loss: 0.2986
Epoch 104/200
1688/1688 ━━━━━━━━━━━━━━━━━━━━ 5s 3ms/step - accuracy: 0.9999 - loss: 6.6577e-04 - val_accuracy: 0.9842 - val_loss: 0.3814
Epoch 105/200
1688/1688 ━━━━━━━━━━━━━━━━━━━━ 5s 3ms/step - accuracy: 0.9995 - loss: 0.0065 - val_accuracy: 0.9823 - val_loss: 0.3244
Epoch 106/200
1688/1688 ━━━━━━━━━━━━━━━━━━━━ 5s 3ms/step - accuracy: 0.9992 - loss: 0.0064 - val_accuracy: 0.9835 - val_loss: 0.3784
Epoch 107/200
1688/1688 ━━━━━━━━━━━━━━━━━━━━ 5s 3ms/step - accuracy: 0.9995 - loss: 0.0054 - val_accuracy: 0.9847 - val_loss: 0.3237
Epoch 108/200
1688/1688 ━━━━━━━━━━━━━━━━━━━━ 5s 3ms/step - accuracy: 1.0000 - loss: 2.8973e-04 - val_accuracy: 0.9855 - val_loss: 0.3434
Epoch 109/200
1688/1688 ━━━━━━━━━━━━━━━━━━━━ 5s 3ms/step - accuracy: 0.9994 - loss: 0.0059 - val_accuracy: 0.9855 - val_loss: 0.3570
Epoch 110/200
1688/1688 ━━━━━━━━━━━━━━━━━━━━ 5s 3ms/step - accuracy: 0.9987 - loss: 0.0109 - val_accuracy: 0.9827 - val_loss: 0.4362
Epoch 111/200
1688/1688 ━━━━━━━━━━━━━━━━━━━━ 5s 3ms/step - accuracy: 0.9991 - loss: 0.0067 - val_accuracy: 0.9827 - val_loss: 0.4398
Epoch 112/200
1688/1688 ━━━━━━━━━━━━━━━━━━━━ 5s 3ms/step - accuracy: 0.9992 - loss: 0.0073 - val_accuracy: 0.9802 - val_loss: 0.3240
Epoch 113/200
1688/1688 ━━━━━━━━━━━━━━━━━━━━ 5s 3ms/step - accuracy: 0.9991 - loss: 0.0072 - val_accuracy: 0.9838 - val_loss: 0.3218
Epoch 114/200
1688/1688 ━━━━━━━━━━━━━━━━━━━━ 5s 3ms/step - accuracy: 0.9991 - loss: 0.0060 - val_accuracy: 0.9840 - val_loss: 0.3798
Epoch 115/200
1688/1688 ━━━━━━━━━━━━━━━━━━━━ 5s 3ms/step - accuracy: 0.9990 - loss: 0.0104 - val_accuracy: 0.9853 - val_loss: 0.3126
Epoch 116/200
1688/1688 ━━━━━━━━━━━━━━━━━━━━ 5s 3ms/step - accuracy: 0.9997 - loss: 0.0012 - val_accuracy: 0.9833 - val_loss: 0.4022
Epoch 117/200
1688/1688 ━━━━━━━━━━━━━━━━━━━━ 5s 3ms/step - accuracy: 0.9989 - loss: 0.0148 - val_accuracy: 0.9842 - val_loss: 0.4653
Epoch 118/200
1688/1688 ━━━━━━━━━━━━━━━━━━━━ 5s 3ms/step - accuracy: 0.9992 - loss: 0.0086 - val_accuracy: 0.9847 - val_loss: 0.4684
Epoch 119/200
1688/1688 ━━━━━━━━━━━━━━━━━━━━ 5s 3ms/step - accuracy: 0.9993 - loss: 0.0048 - val_accuracy: 0.9822 - val_loss: 0.3777
Epoch 120/200
1688/1688 ━━━━━━━━━━━━━━━━━━━━ 5s 3ms/step - accuracy: 0.9992 - loss: 0.0041 - val_accuracy: 0.9835 - val_loss: 0.3842
Epoch 121/200
1688/1688 ━━━━━━━━━━━━━━━━━━━━ 5s 3ms/step - accuracy: 0.9994 - loss: 0.0023 - val_accuracy: 0.9840 - val_loss: 0.4208
Epoch 122/200
1688/1688 ━━━━━━━━━━━━━━━━━━━━ 5s 3ms/step - accuracy: 0.9989 - loss: 0.0075 - val_accuracy: 0.9840 - val_loss: 0.3696
Epoch 123/200
1688/1688 ━━━━━━━━━━━━━━━━━━━━ 5s 3ms/step - accuracy: 0.9991 - loss: 0.0107 - val_accuracy: 0.9847 - val_loss: 0.3139
Epoch 124/200
1688/1688 ━━━━━━━━━━━━━━━━━━━━ 5s 3ms/step - accuracy: 0.9998 - loss: 0.0024 - val_accuracy: 0.9850 - val_loss: 0.3626
Epoch 125/200
1688/1688 ━━━━━━━━━━━━━━━━━━━━ 5s 3ms/step - accuracy: 0.9998 - loss: 0.0019 - val_accuracy: 0.9850 - val_loss: 0.4159
Epoch 126/200
1688/1688 ━━━━━━━━━━━━━━━━━━━━ 5s 3ms/step - accuracy: 0.9994 - loss: 0.0044 - val_accuracy: 0.9833 - val_loss: 0.3653
Epoch 127/200
1688/1688 ━━━━━━━━━━━━━━━━━━━━ 5s 3ms/step - accuracy: 0.9995 - loss: 0.0029 - val_accuracy: 0.9833 - val_loss: 0.4094
Epoch 128/200
1688/1688 ━━━━━━━━━━━━━━━━━━━━ 5s 3ms/step - accuracy: 0.9992 - loss: 0.0108 - val_accuracy: 0.9852 - val_loss: 0.4162
Epoch 129/200
1688/1688 ━━━━━━━━━━━━━━━━━━━━ 4s 3ms/step - accuracy: 0.9992 - loss: 0.0105 - val_accuracy: 0.9848 - val_loss: 0.4459
Epoch 130/200
1688/1688 ━━━━━━━━━━━━━━━━━━━━ 4s 3ms/step - accuracy: 0.9995 - loss: 0.0042 - val_accuracy: 0.9827 - val_loss: 0.5012
Epoch 131/200
1688/1688 ━━━━━━━━━━━━━━━━━━━━ 5s 3ms/step - accuracy: 0.9990 - loss: 0.0074 - val_accuracy: 0.9818 - val_loss: 0.5927
Epoch 132/200
1688/1688 ━━━━━━━━━━━━━━━━━━━━ 5s 3ms/step - accuracy: 0.9992 - loss: 0.0064 - val_accuracy: 0.9812 - val_loss: 0.5736
Epoch 133/200
1688/1688 ━━━━━━━━━━━━━━━━━━━━ 5s 3ms/step - accuracy: 0.9996 - loss: 0.0027 - val_accuracy: 0.9823 - val_loss: 0.4785
Epoch 134/200
1688/1688 ━━━━━━━━━━━━━━━━━━━━ 5s 3ms/step - accuracy: 0.9993 - loss: 0.0059 - val_accuracy: 0.9833 - val_loss: 0.4852
Epoch 135/200
1688/1688 ━━━━━━━━━━━━━━━━━━━━ 5s 3ms/step - accuracy: 0.9994 - loss: 0.0084 - val_accuracy: 0.9823 - val_loss: 0.5765
Epoch 136/200
1688/1688 ━━━━━━━━━━━━━━━━━━━━ 5s 3ms/step - accuracy: 0.9989 - loss: 0.0104 - val_accuracy: 0.9822 - val_loss: 0.5543
Epoch 137/200
1688/1688 ━━━━━━━━━━━━━━━━━━━━ 5s 3ms/step - accuracy: 0.9989 - loss: 0.0129 - val_accuracy: 0.9838 - val_loss: 0.4276
Epoch 138/200
1688/1688 ━━━━━━━━━━━━━━━━━━━━ 5s 3ms/step - accuracy: 0.9994 - loss: 0.0033 - val_accuracy: 0.9833 - val_loss: 0.4444
Epoch 139/200
1688/1688 ━━━━━━━━━━━━━━━━━━━━ 5s 3ms/step - accuracy: 0.9996 - loss: 0.0025 - val_accuracy: 0.9827 - val_loss: 0.4334
Epoch 140/200
1688/1688 ━━━━━━━━━━━━━━━━━━━━ 5s 3ms/step - accuracy: 0.9991 - loss: 0.0061 - val_accuracy: 0.9813 - val_loss: 0.3875
Epoch 141/200
1688/1688 ━━━━━━━━━━━━━━━━━━━━ 5s 3ms/step - accuracy: 0.9991 - loss: 0.0068 - val_accuracy: 0.9830 - val_loss: 0.3594
Epoch 142/200
1688/1688 ━━━━━━━━━━━━━━━━━━━━ 5s 3ms/step - accuracy: 0.9996 - loss: 0.0019 - val_accuracy: 0.9835 - val_loss: 0.3611
Epoch 143/200
1688/1688 ━━━━━━━━━━━━━━━━━━━━ 5s 3ms/step - accuracy: 0.9993 - loss: 0.0072 - val_accuracy: 0.9808 - val_loss: 0.4637
Epoch 144/200
1688/1688 ━━━━━━━━━━━━━━━━━━━━ 5s 3ms/step - accuracy: 0.9989 - loss: 0.0154 - val_accuracy: 0.9815 - val_loss: 0.4403
Epoch 145/200
1688/1688 ━━━━━━━━━━━━━━━━━━━━ 5s 3ms/step - accuracy: 0.9991 - loss: 0.0073 - val_accuracy: 0.9845 - val_loss: 0.3170
Epoch 146/200
1688/1688 ━━━━━━━━━━━━━━━━━━━━ 5s 3ms/step - accuracy: 0.9995 - loss: 0.0040 - val_accuracy: 0.9833 - val_loss: 0.3158
Epoch 147/200
1688/1688 ━━━━━━━━━━━━━━━━━━━━ 5s 3ms/step - accuracy: 0.9998 - loss: 0.0011 - val_accuracy: 0.9838 - val_loss: 0.4381
Epoch 148/200
1688/1688 ━━━━━━━━━━━━━━━━━━━━ 5s 3ms/step - accuracy: 0.9989 - loss: 0.0101 - val_accuracy: 0.9833 - val_loss: 0.3819
Epoch 149/200
1688/1688 ━━━━━━━━━━━━━━━━━━━━ 5s 3ms/step - accuracy: 0.9993 - loss: 0.0048 - val_accuracy: 0.9832 - val_loss: 0.4046
Epoch 150/200
1688/1688 ━━━━━━━━━━━━━━━━━━━━ 5s 3ms/step - accuracy: 0.9992 - loss: 0.0079 - val_accuracy: 0.9812 - val_loss: 0.5535
Epoch 151/200
1688/1688 ━━━━━━━━━━━━━━━━━━━━ 5s 3ms/step - accuracy: 0.9993 - loss: 0.0108 - val_accuracy: 0.9822 - val_loss: 0.4403
Epoch 152/200
1688/1688 ━━━━━━━━━━━━━━━━━━━━ 6s 3ms/step - accuracy: 0.9997 - loss: 0.0025 - val_accuracy: 0.9845 - val_loss: 0.4406
Epoch 153/200
1688/1688 ━━━━━━━━━━━━━━━━━━━━ 5s 3ms/step - accuracy: 0.9996 - loss: 0.0047 - val_accuracy: 0.9830 - val_loss: 0.4754
Epoch 154/200
1688/1688 ━━━━━━━━━━━━━━━━━━━━ 5s 3ms/step - accuracy: 0.9993 - loss: 0.0077 - val_accuracy: 0.9835 - val_loss: 0.3431
Epoch 155/200
1688/1688 ━━━━━━━━━━━━━━━━━━━━ 6s 3ms/step - accuracy: 0.9996 - loss: 0.0018 - val_accuracy: 0.9840 - val_loss: 0.4942
Epoch 156/200
1688/1688 ━━━━━━━━━━━━━━━━━━━━ 5s 3ms/step - accuracy: 0.9996 - loss: 0.0040 - val_accuracy: 0.9823 - val_loss: 0.3752
Epoch 157/200
1688/1688 ━━━━━━━━━━━━━━━━━━━━ 5s 3ms/step - accuracy: 0.9996 - loss: 0.0029 - val_accuracy: 0.9828 - val_loss: 0.4690
Epoch 158/200
1688/1688 ━━━━━━━━━━━━━━━━━━━━ 5s 3ms/step - accuracy: 0.9999 - loss: 9.3179e-04 - val_accuracy: 0.9840 - val_loss: 0.5207
Epoch 159/200
1688/1688 ━━━━━━━━━━━━━━━━━━━━ 5s 3ms/step - accuracy: 0.9992 - loss: 0.0062 - val_accuracy: 0.9835 - val_loss: 0.4159
Epoch 160/200
1688/1688 ━━━━━━━━━━━━━━━━━━━━ 5s 3ms/step - accuracy: 0.9994 - loss: 0.0061 - val_accuracy: 0.9837 - val_loss: 0.3969
Epoch 161/200
1688/1688 ━━━━━━━━━━━━━━━━━━━━ 5s 3ms/step - accuracy: 0.9997 - loss: 0.0013 - val_accuracy: 0.9830 - val_loss: 0.5903
Epoch 162/200
1688/1688 ━━━━━━━━━━━━━━━━━━━━ 5s 3ms/step - accuracy: 0.9992 - loss: 0.0103 - val_accuracy: 0.9832 - val_loss: 0.4877
Epoch 163/200
1688/1688 ━━━━━━━━━━━━━━━━━━━━ 5s 3ms/step - accuracy: 0.9986 - loss: 0.0105 - val_accuracy: 0.9845 - val_loss: 0.4411
Epoch 164/200
1688/1688 ━━━━━━━━━━━━━━━━━━━━ 5s 3ms/step - accuracy: 0.9998 - loss: 0.0014 - val_accuracy: 0.9848 - val_loss: 0.4473
Epoch 165/200
1688/1688 ━━━━━━━━━━━━━━━━━━━━ 5s 3ms/step - accuracy: 0.9997 - loss: 0.0017 - val_accuracy: 0.9808 - val_loss: 0.4919
Epoch 166/200
1688/1688 ━━━━━━━━━━━━━━━━━━━━ 5s 3ms/step - accuracy: 0.9993 - loss: 0.0036 - val_accuracy: 0.9838 - val_loss: 0.5456
Epoch 167/200
1688/1688 ━━━━━━━━━━━━━━━━━━━━ 5s 3ms/step - accuracy: 0.9996 - loss: 0.0074 - val_accuracy: 0.9823 - val_loss: 0.5240
Epoch 168/200
1688/1688 ━━━━━━━━━━━━━━━━━━━━ 5s 3ms/step - accuracy: 0.9992 - loss: 0.0061 - val_accuracy: 0.9832 - val_loss: 0.2848
Epoch 169/200
1688/1688 ━━━━━━━━━━━━━━━━━━━━ 5s 3ms/step - accuracy: 0.9997 - loss: 0.0037 - val_accuracy: 0.9840 - val_loss: 0.3740
Epoch 170/200
1688/1688 ━━━━━━━━━━━━━━━━━━━━ 5s 3ms/step - accuracy: 0.9996 - loss: 0.0039 - val_accuracy: 0.9842 - val_loss: 0.4407
Epoch 171/200
1688/1688 ━━━━━━━━━━━━━━━━━━━━ 5s 3ms/step - accuracy: 0.9995 - loss: 0.0045 - val_accuracy: 0.9830 - val_loss: 0.3836
Epoch 172/200
1688/1688 ━━━━━━━━━━━━━━━━━━━━ 5s 3ms/step - accuracy: 0.9997 - loss: 0.0016 - val_accuracy: 0.9837 - val_loss: 0.3784
Epoch 173/200
1688/1688 ━━━━━━━━━━━━━━━━━━━━ 6s 3ms/step - accuracy: 0.9999 - loss: 0.0018 - val_accuracy: 0.9830 - val_loss: 0.4513
Epoch 174/200
1688/1688 ━━━━━━━━━━━━━━━━━━━━ 6s 3ms/step - accuracy: 0.9996 - loss: 0.0033 - val_accuracy: 0.9835 - val_loss: 0.5235
Epoch 175/200
1688/1688 ━━━━━━━━━━━━━━━━━━━━ 5s 3ms/step - accuracy: 0.9994 - loss: 0.0071 - val_accuracy: 0.9803 - val_loss: 0.4924
Epoch 176/200
1688/1688 ━━━━━━━━━━━━━━━━━━━━ 5s 3ms/step - accuracy: 0.9993 - loss: 0.0055 - val_accuracy: 0.9838 - val_loss: 0.4969
Epoch 177/200
1688/1688 ━━━━━━━━━━━━━━━━━━━━ 5s 3ms/step - accuracy: 0.9990 - loss: 0.0103 - val_accuracy: 0.9843 - val_loss: 0.3836
Epoch 178/200
1688/1688 ━━━━━━━━━━━━━━━━━━━━ 6s 3ms/step - accuracy: 0.9997 - loss: 0.0026 - val_accuracy: 0.9835 - val_loss: 0.5362
Epoch 179/200
1688/1688 ━━━━━━━━━━━━━━━━━━━━ 8s 5ms/step - accuracy: 0.9987 - loss: 0.0168 - val_accuracy: 0.9835 - val_loss: 0.6261
Epoch 180/200
1688/1688 ━━━━━━━━━━━━━━━━━━━━ 5s 3ms/step - accuracy: 0.9995 - loss: 0.0058 - val_accuracy: 0.9797 - val_loss: 0.8471
Epoch 181/200
1688/1688 ━━━━━━━━━━━━━━━━━━━━ 5s 3ms/step - accuracy: 0.9994 - loss: 0.0124 - val_accuracy: 0.9827 - val_loss: 0.5415
Epoch 182/200
1688/1688 ━━━━━━━━━━━━━━━━━━━━ 5s 3ms/step - accuracy: 0.9997 - loss: 0.0022 - val_accuracy: 0.9843 - val_loss: 0.4740
Epoch 183/200
1688/1688 ━━━━━━━━━━━━━━━━━━━━ 5s 3ms/step - accuracy: 0.9999 - loss: 1.0901e-04 - val_accuracy: 0.9845 - val_loss: 0.4634
Epoch 184/200
1688/1688 ━━━━━━━━━━━━━━━━━━━━ 5s 3ms/step - accuracy: 1.0000 - loss: 2.2535e-06 - val_accuracy: 0.9850 - val_loss: 0.4683
Epoch 185/200
1688/1688 ━━━━━━━━━━━━━━━━━━━━ 5s 3ms/step - accuracy: 1.0000 - loss: 3.3916e-07 - val_accuracy: 0.9853 - val_loss: 0.4706
Epoch 186/200
1688/1688 ━━━━━━━━━━━━━━━━━━━━ 5s 3ms/step - accuracy: 1.0000 - loss: 2.5946e-07 - val_accuracy: 0.9855 - val_loss: 0.4734
Epoch 187/200
1688/1688 ━━━━━━━━━━━━━━━━━━━━ 5s 3ms/step - accuracy: 1.0000 - loss: 1.4003e-07 - val_accuracy: 0.9852 - val_loss: 0.4768
Epoch 188/200
1688/1688 ━━━━━━━━━━━━━━━━━━━━ 5s 3ms/step - accuracy: 1.0000 - loss: 6.1730e-08 - val_accuracy: 0.9852 - val_loss: 0.4833
Epoch 189/200
1688/1688 ━━━━━━━━━━━━━━━━━━━━ 5s 3ms/step - accuracy: 1.0000 - loss: 3.4003e-08 - val_accuracy: 0.9852 - val_loss: 0.4882
Epoch 190/200
1688/1688 ━━━━━━━━━━━━━━━━━━━━ 5s 3ms/step - accuracy: 1.0000 - loss: 1.4258e-08 - val_accuracy: 0.9852 - val_loss: 0.4944
Epoch 191/200
1688/1688 ━━━━━━━━━━━━━━━━━━━━ 5s 3ms/step - accuracy: 1.0000 - loss: 6.7149e-09 - val_accuracy: 0.9848 - val_loss: 0.5007
Epoch 192/200
1688/1688 ━━━━━━━━━━━━━━━━━━━━ 5s 3ms/step - accuracy: 1.0000 - loss: 2.4743e-09 - val_accuracy: 0.9848 - val_loss: 0.5072
Epoch 193/200
1688/1688 ━━━━━━━━━━━━━━━━━━━━ 5s 3ms/step - accuracy: 1.0000 - loss: 1.3468e-09 - val_accuracy: 0.9850 - val_loss: 0.5138
Epoch 194/200
1688/1688 ━━━━━━━━━━━━━━━━━━━━ 5s 3ms/step - accuracy: 1.0000 - loss: 5.1388e-10 - val_accuracy: 0.9852 - val_loss: 0.5213
Epoch 195/200
1688/1688 ━━━━━━━━━━━━━━━━━━━━ 5s 3ms/step - accuracy: 1.0000 - loss: 2.6311e-10 - val_accuracy: 0.9857 - val_loss: 0.5288
Epoch 196/200
1688/1688 ━━━━━━━━━━━━━━━━━━━━ 5s 3ms/step - accuracy: 1.0000 - loss: 1.3751e-10 - val_accuracy: 0.9855 - val_loss: 0.5359
Epoch 197/200
1688/1688 ━━━━━━━━━━━━━━━━━━━━ 5s 3ms/step - accuracy: 1.0000 - loss: 8.5132e-11 - val_accuracy: 0.9853 - val_loss: 0.5431
Epoch 198/200
1688/1688 ━━━━━━━━━━━━━━━━━━━━ 5s 3ms/step - accuracy: 1.0000 - loss: 2.2101e-11 - val_accuracy: 0.9853 - val_loss: 0.5501
Epoch 199/200
1688/1688 ━━━━━━━━━━━━━━━━━━━━ 5s 3ms/step - accuracy: 1.0000 - loss: 1.7395e-11 - val_accuracy: 0.9853 - val_loss: 0.5569
Epoch 200/200
1688/1688 ━━━━━━━━━━━━━━━━━━━━ 5s 3ms/step - accuracy: 1.0000 - loss: 6.7292e-12 - val_accuracy: 0.9852 - val_loss: 0.5635
#--- Evaluate on test set
test_loss, test_acc = model.evaluate(x_test, y_test, verbose=0)
print(f"\nTest Accuracy: {test_acc*100:.2f}%")
Test Accuracy: 98.48%
#--- Plot training & validation accuracy and loss
plt.figure(figsize=(12, 5))

# Accuracy plot
plt.subplot(1, 2, 1)
plt.plot(history.history['accuracy'], label='Train Accuracy')
plt.plot(history.history['val_accuracy'], label='Validation Accuracy')
plt.title('Model Accuracy')
plt.xlabel('Epoch')
plt.ylabel('Accuracy')
plt.legend()

# Loss plot
plt.subplot(1, 2, 2)
plt.plot(history.history['loss'], label='Train Loss')
plt.plot(history.history['val_loss'], label='Validation Loss')
plt.title('Model Loss')
plt.xlabel('Epoch')
plt.ylabel('Loss')
plt.legend()

plt.show()

 
